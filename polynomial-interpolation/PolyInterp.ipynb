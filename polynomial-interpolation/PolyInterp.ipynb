{
 "cells": [
  {
   "cell_type": "markdown",
   "metadata": {},
   "source": [
    "# Polynomial interpolation"
   ]
  },
  {
   "cell_type": "markdown",
   "metadata": {},
   "source": [
    "*The content of this notebook is based on the books 'Numerical Mathematics and Computations' by Cheney and Kincaid and 'Numerical Methods' by Dahlquist and Bjork.*"
   ]
  },
  {
   "cell_type": "code",
   "execution_count": 21,
   "metadata": {
    "collapsed": true
   },
   "outputs": [],
   "source": [
    "%matplotlib inline"
   ]
  },
  {
   "cell_type": "markdown",
   "metadata": {},
   "source": [
    "## Methods for locating roots"
   ]
  },
  {
   "cell_type": "markdown",
   "metadata": {},
   "source": [
    "### Bisection method"
   ]
  },
  {
   "cell_type": "markdown",
   "metadata": {},
   "source": [
    "The bisection method is a basic method for computing the root of a function. It assumes that a continuous function $f(x)$ is defined over an interval $[a,b]$ in which the sign of the function is opposite at each of the limits. That is, $sign(f(a)) = -sign(f(b))$. "
   ]
  },
  {
   "cell_type": "markdown",
   "metadata": {},
   "source": [
    "It uses a divide and conquer approach in which the interval is divided equally into two subintervals $[a,c]$, $[c,b]$ in which $c = (a+b)/2$. The algorithm then evaluates the function for each of the limits of the two subintervals. The interval in which the sign of the function is opposite at the interval limits dicates where future subdivision should occur. "
   ]
  },
  {
   "cell_type": "markdown",
   "metadata": {},
   "source": [
    "Convergence is achieved when the current approximation to the root is equal to the previous approximation (within some tolerance). The basic step of the algorithm are as follows:"
   ]
  },
  {
   "cell_type": "markdown",
   "metadata": {},
   "source": [
    "1. Input the function f(x), interval [a,b], tolerance $\\varepsilon$ and maximum number of iterations, $n_{max}$\n",
    "2. Evaluate f(a), f(b) and determine the sign of each function evaluation\n",
    "3. Determine two new subintervals [a,c], [c,b] and compute f(c).\n",
    "4. Check for convergence: if abs(c-a) < $\\varepsilon$ we have convergence and return c as the root.\n",
    "5. Determine the sign of f(c). If $sign(f(a)) \\neq sign(f(c))$ then set b = c and return to step 2. Otherwise, set a = c and return to step 2."
   ]
  },
  {
   "cell_type": "markdown",
   "metadata": {},
   "source": [
    "Here is an example implementation"
   ]
  },
  {
   "cell_type": "code",
   "execution_count": 33,
   "metadata": {
    "collapsed": true
   },
   "outputs": [],
   "source": [
    "def bisection(func, a, b, nmax, eps):\n",
    "    f_a = func(a)\n",
    "    f_b = func(b)\n",
    "    sign_fa = abs(f_a) / f_a\n",
    "    sign_fb = abs(f_b) / f_b\n",
    "    \n",
    "    if sign_fa == sign_fb:\n",
    "        print 'f(a) = %0.3f and f(b) = %0.3f have the same sign' % (f_a, f_b)\n",
    "        return\n",
    "\n",
    "    error = b - a\n",
    "    for i in xrange(nmax):\n",
    "        error = 0.5 * error\n",
    "        c = a + error\n",
    "        f_c = func(c)\n",
    "        if abs(error) < eps:\n",
    "            print 'We have achieved convergence to a root of %0.8f with value %0.8f in %d steps' % (c, f_c, i+1)\n",
    "            return c\n",
    "        sign_fc = abs(f_c) / f_c\n",
    "        if sign_fa != sign_fc:\n",
    "            b = c\n",
    "            f_b = f_c\n",
    "        else:\n",
    "            a = c\n",
    "            f_a = f_c\n",
    "\n",
    "    print 'Failed to reach convergence in %d steps.' % nmax\n",
    "    return"
   ]
  },
  {
   "cell_type": "markdown",
   "metadata": {},
   "source": [
    "So let's now define the function $f(x) = x^3 - 3x + 1$ which we wish to find the root of:"
   ]
  },
  {
   "cell_type": "code",
   "execution_count": 30,
   "metadata": {
    "collapsed": false
   },
   "outputs": [],
   "source": [
    "def myfunc(x):\n",
    "    return x**3 - 3 * x + 1"
   ]
  },
  {
   "cell_type": "markdown",
   "metadata": {},
   "source": [
    "This can be plotted to give an indication of what value of root to expect"
   ]
  },
  {
   "cell_type": "code",
   "execution_count": 32,
   "metadata": {
    "collapsed": false
   },
   "outputs": [
    {
     "data": {
      "text/plain": [
       "[<matplotlib.lines.Line2D at 0x108ade050>]"
      ]
     },
     "execution_count": 32,
     "metadata": {},
     "output_type": "execute_result"
    },
    {
     "data": {
      "image/png": "[encoded data removed]",
      "text/plain": [
       "<matplotlib.figure.Figure at 0x108d18910>"
      ]
     },
     "metadata": {},
     "output_type": "display_data"
    }
   ],
   "source": [
    "import matplotlib.pyplot as plt\n",
    "import numpy as np\n",
    "\n",
    "xvals = np.arange(0.0, 1.0, 0.01)\n",
    "plt.plot(xvals, myfunc(xvals))"
   ]
  },
  {
   "cell_type": "markdown",
   "metadata": {},
   "source": [
    "And now evaluate the root using the bisection method with a tolerance of $1.0\\times 10^{-5}$."
   ]
  },
  {
   "cell_type": "code",
   "execution_count": 34,
   "metadata": {
    "collapsed": false
   },
   "outputs": [
    {
     "name": "stdout",
     "output_type": "stream",
     "text": [
      "We have achieved convergence to a root of 0.34729767 with value -0.00000346 in 17 steps\n"
     ]
    }
   ],
   "source": [
    "root = bisection(myfunc, 0.0, 1.0, 20, 1.0e-5)"
   ]
  },
  {
   "cell_type": "code",
   "execution_count": null,
   "metadata": {
    "collapsed": true
   },
   "outputs": [],
   "source": []
  }
 ],
 "metadata": {
  "kernelspec": {
   "display_name": "Python 2",
   "language": "python",
   "name": "python2"
  },
  "language_info": {
   "codemirror_mode": {
    "name": "ipython",
    "version": 2
   },
   "file_extension": ".py",
   "mimetype": "text/x-python",
   "name": "python",
   "nbconvert_exporter": "python",
   "pygments_lexer": "ipython2",
   "version": "2.7.10"
  }
 },
 "nbformat": 4,
 "nbformat_minor": 0
}
